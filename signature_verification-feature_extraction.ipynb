{
 "cells": [
  {
   "cell_type": "markdown",
   "metadata": {},
   "source": [
    "Reading all versions of a signature from a directory"
   ]
  },
  {
   "cell_type": "code",
   "execution_count": 134,
   "metadata": {
    "scrolled": true
   },
   "outputs": [],
   "source": [
    "import cv2\n",
    "import numpy as np\n",
    "import os\n",
    "from skimage import color\n",
    "from skimage import io\n",
    "from sklearn import ensemble\n",
    "from sklearn.neural_network import MLPClassifier\n",
    "from sklearn.model_selection import train_test_split\n",
    "import operator\n",
    "from sklearn.pipeline import Pipeline\n",
    "\n",
    "\n",
    "# CONSTANTS\n",
    "# path to signature's directory\n",
    "path = './SVC/Standard/006'\n",
    "\n",
    "# stores all versions of a signature\n",
    "signatures = []   \n",
    "# stores if it's original or fake (1 - original, 0 - fake)\n",
    "target = []\n",
    "\n",
    "# get circles for an image\n",
    "def getCircles(file):\n",
    "    image = cv2.imread(path + '/' + file,0)\n",
    "    # removing noise from picture\n",
    "    image = cv2.medianBlur(image,5)\n",
    "    grayImage = cv2.cvtColor(image,cv2.COLOR_GRAY2BGR)\n",
    "    \n",
    "    # get circles center\n",
    "    # HoughCircles parameters: param1 = how strong the edges of the circles need to be, param2 = how many edge points it needs to find to declare that it's found a circle\n",
    "    circles = cv2.HoughCircles(image,cv2.HOUGH_GRADIENT,1,20,param1=300,param2=20,minRadius=0,maxRadius=30)\n",
    "    circles = np.uint16(np.around(circles))\n",
    "    \n",
    "\n",
    "    for i in circles[0,:]:\n",
    "        cv2.circle(grayImage,(i[0],i[1]),i[2],(0,255,0),2)\n",
    "        # draw the center of the circle\n",
    "        cv2.circle(grayImage,(i[0],i[1]),2,(0,0,255),3)\n",
    "        # write the modified picture to file with circles on it\n",
    "        filename = file.split('.')\n",
    "        cv2.imwrite(filename[0] + '_'+'.png',grayImage)\n",
    "    \n",
    "\n",
    "# get circles for all the images and create new image from it with the drawn circles on it\n",
    "def getCirclesForAll(path):\n",
    "    circlesAll = []\n",
    "    for file in os.listdir(path):\n",
    "        if file.find('.png') != -1:\n",
    "            getCircles(file)\n",
    "\n",
    "# read all the images from a directory\n",
    "for file in os.listdir(path):\n",
    "    if file.find('.png') != -1:\n",
    "        # gray scaling the image\n",
    "        #signature = color.rgb2gray(io.imread(path + '/' + file))\n",
    "        \n",
    "        image = cv2.imread(path + '/' + file,0)\n",
    "        image = cv2.medianBlur(image,5)\n",
    "        grayImage = cv2.cvtColor(image,cv2.COLOR_GRAY2BGR)\n",
    "        \n",
    "        # reshape image matrice to list\n",
    "        #signatures.append(signature.reshape(1,-1))\n",
    "        signatures.append(image)\n",
    "        \n",
    "        \n",
    "        # create label to image whether it's the original or fake one (1 - original, 0 - fake)\n",
    "        if file.find('_e_') != -1:\n",
    "            target.append(1)\n",
    "        else:\n",
    "            target.append(0)\n",
    "\n",
    "            \n",
    "# creates images with circles on them\n",
    "getCirclesForAll(path)"
   ]
  },
  {
   "cell_type": "markdown",
   "metadata": {},
   "source": [
    "creating input data (x) and expected output (y)"
   ]
  },
  {
   "cell_type": "code",
   "execution_count": 123,
   "metadata": {
    "scrolled": true
   },
   "outputs": [
    {
     "data": {
      "text/plain": [
       "'\\n#Define variables\\nn_samples = len(signatures)\\n\\ny = np.asarray(target)\\nx = []\\n\\nfor img in range(0,len(signatures)):\\n    x.append(signatures[img][0])\\n    \\n# get longest image represantation and padding the rest of it\\nlongest_image = max(x, key=lambda k: len(k))\\nlongest_size = len(longest_image)\\n\\n\\n# white pixel\\nwhite = x[0][0]\\n# pad the difference\\nfor sig in range(0,len(x)):\\n    if len(x[sig]) < longest_size:\\n        # how many white pixels have to be added\\n        difference = longest_size - len(x[sig])\\n        \\n        # adding extra white pixels as padding\\n        for pad in range(0,difference):\\n            x[sig] = np.append(x[sig], white)\\n'"
      ]
     },
     "execution_count": 123,
     "metadata": {},
     "output_type": "execute_result"
    }
   ],
   "source": [
    "'''\n",
    "#Define variables\n",
    "n_samples = len(signatures)\n",
    "\n",
    "y = np.asarray(target)\n",
    "x = []\n",
    "\n",
    "for img in range(0,len(signatures)):\n",
    "    x.append(signatures[img][0])\n",
    "    \n",
    "# get longest image represantation and padding the rest of it\n",
    "longest_image = max(x, key=lambda k: len(k))\n",
    "longest_size = len(longest_image)\n",
    "\n",
    "\n",
    "# white pixel\n",
    "white = x[0][0]\n",
    "# pad the difference\n",
    "for sig in range(0,len(x)):\n",
    "    if len(x[sig]) < longest_size:\n",
    "        # how many white pixels have to be added\n",
    "        difference = longest_size - len(x[sig])\n",
    "        \n",
    "        # adding extra white pixels as padding\n",
    "        for pad in range(0,difference):\n",
    "            x[sig] = np.append(x[sig], white)\n",
    "'''"
   ]
  },
  {
   "cell_type": "code",
   "execution_count": 124,
   "metadata": {
    "scrolled": true
   },
   "outputs": [
    {
     "data": {
      "text/plain": [
       "Pipeline(steps=[('features', FeatureUnion(n_jobs=1, transformer_list=[('circles', Circles())],\n",
       "       transformer_weights=None)), ('classifier', RandomForestClassifier(bootstrap=False, class_weight=None, criterion='gini',\n",
       "            max_depth=110, max_features='auto', max_leaf_nodes=None,\n",
       "            min_im...mators=944, n_jobs=1, oob_score=False, random_state=None,\n",
       "            verbose=0, warm_start=False))])"
      ]
     },
     "execution_count": 124,
     "metadata": {},
     "output_type": "execute_result"
    }
   ],
   "source": [
    "###############################\n",
    "from sklearn.preprocessing import FunctionTransformer\n",
    "from sklearn.pipeline import Pipeline, FeatureUnion\n",
    "from sklearn.base import BaseEstimator, TransformerMixin\n",
    "from sklearn.ensemble import RandomForestClassifier\n",
    "from sklearn import cross_validation\n",
    "from sklearn.model_selection import GridSearchCV\n",
    "from sklearn.model_selection import RandomizedSearchCV\n",
    "\n",
    "y = np.asarray(target)\n",
    "\n",
    "# base class for feature extraction with pipelining\n",
    "class Circles(BaseEstimator, TransformerMixin):\n",
    "    \n",
    "    def fit(self,signatures,y=y):\n",
    "        return self\n",
    "    \n",
    "    def fit_transform(self,signatures,y=y):\n",
    "        return self.transform(signatures,y)\n",
    "\n",
    "    def transform(self,signatures,y=y):\n",
    "        circlesAll = []\n",
    "        \n",
    "        for i in range(len(signatures)):\n",
    "            circles = cv2.HoughCircles(signatures[i],cv2.HOUGH_GRADIENT,1,20,param1=300,param2=20,minRadius=0,maxRadius=30)\n",
    "            circles = np.uint16(np.around(circles))\n",
    "            \n",
    "            circlesArray = []\n",
    "            for j in circles[0,:]:\n",
    "                circlesArray.append(j[0])\n",
    "                circlesArray.append(j[1])\n",
    "            circlesAll.append(circlesArray)\n",
    "            \n",
    "           \n",
    "        longest_element = max(circlesAll, key=lambda k: len(k))\n",
    "        #longest_size = len(longest_element)\n",
    "        # ha feature szám nem egyezik hibát kapok, akkor ezt kell átállítani pl egy nagy számra, amit tuti nem ér el\n",
    "        longest_size = 30\n",
    "        \n",
    "        for i in range(len(circlesAll)):\n",
    "            if len(circlesAll[i]) < longest_size:\n",
    "                # how many white pixels have to be added\n",
    "                difference = longest_size - len(circlesAll[i])\n",
    "        \n",
    "                # adding extra white pixels as padding\n",
    "                for pad in range(0,difference):\n",
    "                    circlesAll[i].append(0)\n",
    "                    \n",
    "        return circlesAll\n",
    "    \n",
    "\n",
    "# define pipeline\n",
    "pipeline = Pipeline([\n",
    "    # define feature extraction\n",
    "    ('features',FeatureUnion(\n",
    "        transformer_list = [\n",
    "            ('circles', Circles())\n",
    "        ])\n",
    "    ),\n",
    "    # define model\n",
    "    ('classifier',RandomForestClassifier(max_depth=110,bootstrap=False,min_samples_split=10,min_samples_leaf=1,n_estimators=944))\n",
    "])\n",
    "\n",
    "# datasets\n",
    "x_train, x_test, y_train,y_test = train_test_split(signatures,y,test_size=0.2)\n",
    "\n",
    "#cross_val_score(estimator=pipeline, X=x, y=y, scoring='accuracy')\n",
    "#scores = cross_validation.cross_val_score(pipeline, signatures[:32], y[:32], cv=3)\n",
    "#print(scores.mean())\n",
    "\n",
    "# Number of trees in random forest\n",
    "n_estimators = [int(x) for x in np.linspace(start = 100, stop = 1000, num = 10)]\n",
    "# Maximum number of levels in tree\n",
    "max_depth = [int(x) for x in np.linspace(10, 110, num = 11)]\n",
    "# Minimum number of samples required to split a node\n",
    "min_samples_split = [2, 5, 10]\n",
    "# Minimum number of samples required at each leaf node\n",
    "min_samples_leaf = [1, 2, 4]\n",
    "# Method of selecting samples for training each tree\n",
    "bootstrap = [True, False]\n",
    "\n",
    "# Create the random grid\n",
    "random_grid = {'classifier__n_estimators': n_estimators,\n",
    "               'classifier__max_depth': max_depth,\n",
    "               'classifier__min_samples_split': min_samples_split,\n",
    "               'classifier__min_samples_leaf': min_samples_leaf,\n",
    "               'classifier__bootstrap': bootstrap}\n",
    "\n",
    "#rf_random = RandomizedSearchCV(estimator = pipeline, param_distributions = random_grid, n_iter = 1, cv = 3, verbose=2, random_state=42, n_jobs = -1)\n",
    "pipeline.fit(X=x_train,y=y_train)\n"
   ]
  },
  {
   "cell_type": "code",
   "execution_count": 125,
   "metadata": {},
   "outputs": [
    {
     "name": "stdout",
     "output_type": "stream",
     "text": [
      "accuracy: 0.875\n",
      "predictions: [1 0 0 1 1 1 0 1]\n",
      "expected: [1 0 0 1 1 0 0 1]\n"
     ]
    }
   ],
   "source": [
    "predictions = pipeline.predict(x_test)\n",
    "accuracy = pipeline.score(x_test,y_test)\n",
    "\n",
    "print('accuracy:',accuracy)\n",
    "print('predictions:',predictions)\n",
    "print('expected:',y_test)\n",
    "\n",
    "###############################\n",
    "# using the best paramcombination from RandomizedSearchCV\n",
    "#model = rf_random.fit(signatures[:32], y[:32])\n",
    "#rf_random.best_params_\n",
    "\n",
    "# gets the pipeline tuning parameters\n",
    "#pipeline.get_params().keys()"
   ]
  }
 ],
 "metadata": {
  "kernelspec": {
   "display_name": "Python 3",
   "language": "python",
   "name": "python3"
  },
  "language_info": {
   "codemirror_mode": {
    "name": "ipython",
    "version": 3
   },
   "file_extension": ".py",
   "mimetype": "text/x-python",
   "name": "python",
   "nbconvert_exporter": "python",
   "pygments_lexer": "ipython3",
   "version": "3.6.0"
  }
 },
 "nbformat": 4,
 "nbformat_minor": 2
}
